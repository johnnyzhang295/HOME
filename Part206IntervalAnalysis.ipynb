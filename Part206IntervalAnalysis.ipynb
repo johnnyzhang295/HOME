{
 "cells": [
  {
   "cell_type": "code",
   "execution_count": 1,
   "metadata": {
    "collapsed": true
   },
   "outputs": [],
   "source": [
    "%matplotlib notebook\n",
    "\n",
    "import matplotlib.pyplot as plt\n",
    "from IPython.display import display\n",
    "import neurokit2 as nk\n",
    "import pandas as pd\n",
    "import numpy as np\n",
    "import seaborn as sns\n",
    "import os\n",
    "import pickle\n",
    "\n",
    "# Set matplotlib parameters for displaying graphs\n",
    "sns.set_style('darkgrid')\n",
    "plt.rcParams['figure.figsize'] = [8, 4]  # Bigger images\n",
    "plt.rcParams['font.size']= 14\n",
    "\n",
    "pd.set_option('display.max_columns', None)\n",
    "\n",
    "p = 'data/part206/part206_pilot_ecg_signals_elgendi2010.p'\n",
    "p2 = 'data/part206/part206_pilot_ecg_signals_elgendi2010metadata.p'\n",
    "ecg = pickle.load(open(p,\"rb\"))\n",
    "ecg_info = pickle.load(open(p2,'rb'))\n",
    "eda = pickle.load(open('data/part206/part206_pilot_eda_signals.p',\"rb\"))\n",
    "rsp = pickle.load(open('data/part206/part206_pilot_rsp_signals.p',\"rb\"))"
   ]
  },
  {
   "cell_type": "code",
   "execution_count": 2,
   "metadata": {
    "collapsed": true
   },
   "outputs": [],
   "source": [
    "data_file = 'data/part206/part206_pilot.acq'\n",
    "rate = 2000\n",
    "\n",
    "data, sampling_rate = nk.read_acqknowledge(data_file)\n",
    "data = data.rename(columns={\"RSP, X, RSPEC-R\": \"RSP\", \"DTU100 - Trigger View, AMI / HLT - A11\": \"TRIG\",\n",
    "                            \"EDA, X, PPGED-R\": \"EDA\", \"ECG, X, RSPEC-R\": \"ECG\"})\n",
    "start_times = [317250, 1023250, 1567250, 2101250, 2659250, 3307250, 3843250, 4377250, 4913250, 5451250, 5939250, 6503250]\n",
    "feedback_times = [950589, 1495874, 2029686, 2580921, 3103039, 3767436, 4295163, 4844705, 5378331, 5858753, 6393158, 6956801]\n",
    "taskload_settings = [3.0, 3.0, 2.0 ,3.0 ,2.0, 4.0 ,2.0 ,4.0,4.0,2.0,4.0,3.0]\n",
    "trust_settings = [1,1,1,1,0,1,0,1,1,1,1,0]\n",
    "elapsed_time_lockin=[6.30000000000000, 5.06666666666666, 7.93333333333333, 5, 8.63333333333333, 6.40000000000000, 9.10000000000000, 6.33333333333334, 6.80000000000000,5.66666666666666,5.26666666666667,7.36666666666667]\n",
    "\n",
    "durations = [633339, 472624, 462436, 479671, 443789, 460186, 451913, 467455, 465081, 407503, 453908, 453551]"
   ]
  },
  {
   "cell_type": "code",
   "execution_count": 3,
   "metadata": {},
   "outputs": [],
   "source": [
    "events = {}\n",
    "events['onset'] = start_times\n",
    "events['duration'] = durations\n",
    "events['label']=  [1,2,3,4,5,6,7,8,9,10,11,12]\n",
    "events['condition'] =  taskload_settings\n",
    "\n",
    "events_feedback = {}\n",
    "events_feedback['onset'] = feedback_times\n",
    "events_feedback['duration'] = durations\n",
    "events_feedback['label']=  [1,2,3,4,5,6,7,8,9,10,11,12]\n",
    "events_feedback['condition'] =  taskload_settings"
   ]
  },
  {
   "cell_type": "code",
   "execution_count": 4,
   "metadata": {
    "collapsed": true
   },
   "outputs": [],
   "source": [
    "ecg_pilot_interval = nk.epochs_create(ecg, events, sampling_rate=rate, epochs_start=0, epochs_end=50)\n",
    "eda_pilot_interval = nk.epochs_create(eda, events, sampling_rate=rate, epochs_start=0, epochs_end=50)\n",
    "rsp_pilot_interval = nk.epochs_create(rsp, events, sampling_rate=rate, epochs_start=0, epochs_end=50)\n",
    "\n",
    "ecg_trust_interval = nk.epochs_create(ecg,events,sampling_rate=rate,epochs_start=50,epochs_end=70)\n",
    "eda_trust_interval = nk.epochs_create(eda,events,sampling_rate=rate,epochs_start=50,epochs_end=70)\n",
    "rsp_trust_interval = nk.epochs_create(rsp,events,sampling_rate=rate,epochs_start=50,epochs_end=70)\n",
    "\n",
    "ecg_trust_event = nk.epochs_create(ecg,events_feedback,sampling_rate=rate,epochs_start=-5,epochs_end=10)\n",
    "eda_trust_event = nk.epochs_create(eda,events_feedback,sampling_rate=rate,epochs_start=-5,epochs_end=10)\n",
    "rsp_trust_event = nk.epochs_create(rsp,events_feedback,sampling_rate=rate,epochs_start=-5,epochs_end=10)\n"
   ]
  },
  {
   "cell_type": "code",
   "execution_count": 29,
   "metadata": {},
   "outputs": [],
   "source": [
    "pi_high_tl = {}\n",
    "hc=1\n",
    "pi_med_tl = {}\n",
    "mc=1\n",
    "pi_low_tl = {}\n",
    "lc=1\n",
    "for i in range(1,13):\n",
    "    if (ecg_pilot_interval[i]['Condition'].iloc[0] == 4.0):\n",
    "        pi_high_tl[hc] = ecg_pilot_interval[i]\n",
    "        hc+=1\n",
    "    if (ecg_pilot_interval[i]['Condition'].iloc[0] == 3.0):\n",
    "        pi_med_tl[mc] = ecg_pilot_interval[i]\n",
    "        mc+=1\n",
    "    if (ecg_pilot_interval[i]['Condition'].iloc[0] == 2.0):\n",
    "        pi_low_tl[lc] = ecg_pilot_interval[i]\n",
    "        lc+=1\n",
    "\n",
    "for i in range(1,13):\n",
    "    if (eda_pilot_interval[i]['Condition'].iloc[0] == 4.0):\n",
    "        pi_high_tl[hc] = eda_pilot_interval[i]\n",
    "        hc+=1\n",
    "    if (eda_pilot_interval[i]['Condition'].iloc[0] == 3.0):\n",
    "        pi_med_tl[mc] = eda_pilot_interval[i]\n",
    "        mc+=1\n",
    "    if (eda_pilot_interval[i]['Condition'].iloc[0] == 2.0):\n",
    "        pi_low_tl[lc] = eda_pilot_interval[i]\n",
    "        lc+=1\n",
    "            \n",
    "for i in range(1,13):\n",
    "    if (rsp_pilot_interval[i]['Condition'].iloc[0] == 4.0):\n",
    "        pi_high_tl[hc] = rsp_pilot_interval[i]\n",
    "        hc+=1\n",
    "    if (rsp_pilot_interval[i]['Condition'].iloc[0] == 3.0):\n",
    "        pi_med_tl[mc] = rsp_pilot_interval[i]\n",
    "        mc+=1\n",
    "    if (rsp_pilot_interval[i]['Condition'].iloc[0] == 2.0):\n",
    "        pi_low_tl[lc] = rsp_pilot_interval[i]\n",
    "        lc+=1"
   ]
  }
 ],
 "metadata": {
  "kernelspec": {
   "display_name": "Python 3",
   "language": "python",
   "name": "python3"
  },
  "language_info": {
   "codemirror_mode": {
    "name": "ipython",
    "version": 3
   },
   "file_extension": ".py",
   "mimetype": "text/x-python",
   "name": "python",
   "nbconvert_exporter": "python",
   "pygments_lexer": "ipython3",
   "version": "3.6.3"
  }
 },
 "nbformat": 4,
 "nbformat_minor": 2
}
