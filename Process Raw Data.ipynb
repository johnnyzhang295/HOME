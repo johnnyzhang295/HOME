{
 "cells": [
  {
   "cell_type": "code",
   "execution_count": 1,
   "metadata": {
    "collapsed": true
   },
   "outputs": [],
   "source": [
    "%matplotlib notebook\n",
    "\n",
    "import matplotlib.pyplot as plt\n",
    "from IPython.display import display\n",
    "import neurokit2 as nk\n",
    "import pandas as pd\n",
    "import numpy as np\n",
    "import seaborn as sns\n",
    "import scipy.signal\n",
    "import os\n",
    "import pickle\n",
    "\n",
    "# Set matplotlib parameters for displaying graphs\n",
    "sns.set_style('darkgrid')\n",
    "plt.rcParams['figure.figsize'] = [10, 5]  # Bigger images\n",
    "plt.rcParams['font.size']= 14\n",
    "\n",
    "pd.set_option('display.max_columns', None)"
   ]
  },
  {
   "cell_type": "code",
   "execution_count": 2,
   "metadata": {
    "collapsed": true
   },
   "outputs": [],
   "source": [
    "cwd = os.getcwd()\n",
    "home_dir = os.path.dirname(cwd)"
   ]
  },
  {
   "cell_type": "code",
   "execution_count": 3,
   "metadata": {
    "scrolled": true
   },
   "outputs": [
    {
     "data": {
      "text/plain": [
       "['C:\\\\Users\\\\BIOPACMan\\\\Documents\\\\Zhang\\\\HOME\\\\data\\\\part201\\\\part201_baseline.acq',\n",
       " 'C:\\\\Users\\\\BIOPACMan\\\\Documents\\\\Zhang\\\\HOME\\\\data\\\\part201\\\\part201_pilot.acq',\n",
       " 'C:\\\\Users\\\\BIOPACMan\\\\Documents\\\\Zhang\\\\HOME\\\\data\\\\part202\\\\part202_baseline.acq',\n",
       " 'C:\\\\Users\\\\BIOPACMan\\\\Documents\\\\Zhang\\\\HOME\\\\data\\\\part202\\\\part202_pilot.acq',\n",
       " 'C:\\\\Users\\\\BIOPACMan\\\\Documents\\\\Zhang\\\\HOME\\\\data\\\\part203\\\\part203_baseline.acq',\n",
       " 'C:\\\\Users\\\\BIOPACMan\\\\Documents\\\\Zhang\\\\HOME\\\\data\\\\part203\\\\part203_pilot.acq',\n",
       " 'C:\\\\Users\\\\BIOPACMan\\\\Documents\\\\Zhang\\\\HOME\\\\data\\\\part204\\\\part204_baseline.acq',\n",
       " 'C:\\\\Users\\\\BIOPACMan\\\\Documents\\\\Zhang\\\\HOME\\\\data\\\\part204\\\\part204_pilot.acq',\n",
       " 'C:\\\\Users\\\\BIOPACMan\\\\Documents\\\\Zhang\\\\HOME\\\\data\\\\part205\\\\part205_baseline.acq',\n",
       " 'C:\\\\Users\\\\BIOPACMan\\\\Documents\\\\Zhang\\\\HOME\\\\data\\\\part205\\\\part205_pilot.acq',\n",
       " 'C:\\\\Users\\\\BIOPACMan\\\\Documents\\\\Zhang\\\\HOME\\\\data\\\\part206\\\\part206_baseline.acq',\n",
       " 'C:\\\\Users\\\\BIOPACMan\\\\Documents\\\\Zhang\\\\HOME\\\\data\\\\part206\\\\part206_pilot.acq',\n",
       " 'C:\\\\Users\\\\BIOPACMan\\\\Documents\\\\Zhang\\\\HOME\\\\data\\\\part207\\\\part207_baseline.acq',\n",
       " 'C:\\\\Users\\\\BIOPACMan\\\\Documents\\\\Zhang\\\\HOME\\\\data\\\\part207\\\\part207_pilot.acq',\n",
       " 'C:\\\\Users\\\\BIOPACMan\\\\Documents\\\\Zhang\\\\HOME\\\\data\\\\part208\\\\part208_baseline.acq',\n",
       " 'C:\\\\Users\\\\BIOPACMan\\\\Documents\\\\Zhang\\\\HOME\\\\data\\\\part208\\\\part208_pilot.acq',\n",
       " 'C:\\\\Users\\\\BIOPACMan\\\\Documents\\\\Zhang\\\\HOME\\\\data\\\\part209\\\\part209_baseline.acq',\n",
       " 'C:\\\\Users\\\\BIOPACMan\\\\Documents\\\\Zhang\\\\HOME\\\\data\\\\part209\\\\part209_pilot.acq',\n",
       " 'C:\\\\Users\\\\BIOPACMan\\\\Documents\\\\Zhang\\\\HOME\\\\data\\\\part210\\\\part210_baseline.acq',\n",
       " 'C:\\\\Users\\\\BIOPACMan\\\\Documents\\\\Zhang\\\\HOME\\\\data\\\\part210\\\\part210_pilot.acq',\n",
       " 'C:\\\\Users\\\\BIOPACMan\\\\Documents\\\\Zhang\\\\HOME\\\\data\\\\part211\\\\part211_baseline.acq',\n",
       " 'C:\\\\Users\\\\BIOPACMan\\\\Documents\\\\Zhang\\\\HOME\\\\data\\\\part211\\\\part211_pilot.acq',\n",
       " 'C:\\\\Users\\\\BIOPACMan\\\\Documents\\\\Zhang\\\\HOME\\\\data\\\\part212\\\\part212_baseline.acq',\n",
       " 'C:\\\\Users\\\\BIOPACMan\\\\Documents\\\\Zhang\\\\HOME\\\\data\\\\part212\\\\part212_pilot.acq',\n",
       " 'C:\\\\Users\\\\BIOPACMan\\\\Documents\\\\Zhang\\\\HOME\\\\data\\\\part213\\\\part213_baseline.acq',\n",
       " 'C:\\\\Users\\\\BIOPACMan\\\\Documents\\\\Zhang\\\\HOME\\\\data\\\\part213\\\\part213_pilot.acq',\n",
       " 'C:\\\\Users\\\\BIOPACMan\\\\Documents\\\\Zhang\\\\HOME\\\\data\\\\part214\\\\part214_baseline.acq',\n",
       " 'C:\\\\Users\\\\BIOPACMan\\\\Documents\\\\Zhang\\\\HOME\\\\data\\\\part214\\\\part214_pilot.acq',\n",
       " 'C:\\\\Users\\\\BIOPACMan\\\\Documents\\\\Zhang\\\\HOME\\\\data\\\\part215\\\\part215_baseline.acq',\n",
       " 'C:\\\\Users\\\\BIOPACMan\\\\Documents\\\\Zhang\\\\HOME\\\\data\\\\part215\\\\part215_pilot.acq']"
      ]
     },
     "execution_count": 3,
     "metadata": {},
     "output_type": "execute_result"
    }
   ],
   "source": [
    "filepaths = []\n",
    "part_paths = []\n",
    "\n",
    "for subdir, dirs, files in os.walk(home_dir):\n",
    "    if \"part\" in subdir:\n",
    "            part_paths.append(subdir)\n",
    "    for filename in files:\n",
    "        filepath = subdir + os.sep + filename\n",
    "        \n",
    "        if filepath.endswith(\".acq\"):\n",
    "            filepaths.append(filepath)\n",
    "      \n",
    "filepaths      "
   ]
  },
  {
   "cell_type": "code",
   "execution_count": 4,
   "metadata": {
    "scrolled": true
   },
   "outputs": [
    {
     "name": "stdout",
     "output_type": "stream",
     "text": [
      "PROCESSING....C:\\Users\\BIOPACMan\\Documents\\Zhang\\HOME\\data\\part201\\part201_baseline.acq\n",
      "PROCESSING....C:\\Users\\BIOPACMan\\Documents\\Zhang\\HOME\\data\\part201\\part201_pilot.acq\n",
      "PROCESSING....C:\\Users\\BIOPACMan\\Documents\\Zhang\\HOME\\data\\part202\\part202_baseline.acq\n",
      "PROCESSING....C:\\Users\\BIOPACMan\\Documents\\Zhang\\HOME\\data\\part202\\part202_pilot.acq\n",
      "PROCESSING....C:\\Users\\BIOPACMan\\Documents\\Zhang\\HOME\\data\\part203\\part203_baseline.acq\n",
      "PROCESSING....C:\\Users\\BIOPACMan\\Documents\\Zhang\\HOME\\data\\part203\\part203_pilot.acq\n",
      "PROCESSING....C:\\Users\\BIOPACMan\\Documents\\Zhang\\HOME\\data\\part204\\part204_baseline.acq\n",
      "PROCESSING....C:\\Users\\BIOPACMan\\Documents\\Zhang\\HOME\\data\\part204\\part204_pilot.acq\n",
      "PROCESSING....C:\\Users\\BIOPACMan\\Documents\\Zhang\\HOME\\data\\part205\\part205_baseline.acq\n",
      "PROCESSING....C:\\Users\\BIOPACMan\\Documents\\Zhang\\HOME\\data\\part205\\part205_pilot.acq\n",
      "PROCESSING....C:\\Users\\BIOPACMan\\Documents\\Zhang\\HOME\\data\\part206\\part206_baseline.acq\n",
      "PROCESSING....C:\\Users\\BIOPACMan\\Documents\\Zhang\\HOME\\data\\part206\\part206_pilot.acq\n",
      "PROCESSING....C:\\Users\\BIOPACMan\\Documents\\Zhang\\HOME\\data\\part207\\part207_baseline.acq\n",
      "PROCESSING....C:\\Users\\BIOPACMan\\Documents\\Zhang\\HOME\\data\\part207\\part207_pilot.acq\n",
      "PROCESSING....C:\\Users\\BIOPACMan\\Documents\\Zhang\\HOME\\data\\part208\\part208_baseline.acq\n",
      "PROCESSING....C:\\Users\\BIOPACMan\\Documents\\Zhang\\HOME\\data\\part208\\part208_pilot.acq\n",
      "PROCESSING....C:\\Users\\BIOPACMan\\Documents\\Zhang\\HOME\\data\\part209\\part209_baseline.acq\n",
      "PROCESSING....C:\\Users\\BIOPACMan\\Documents\\Zhang\\HOME\\data\\part209\\part209_pilot.acq\n",
      "PROCESSING....C:\\Users\\BIOPACMan\\Documents\\Zhang\\HOME\\data\\part210\\part210_baseline.acq\n",
      "PROCESSING....C:\\Users\\BIOPACMan\\Documents\\Zhang\\HOME\\data\\part210\\part210_pilot.acq\n",
      "PROCESSING....C:\\Users\\BIOPACMan\\Documents\\Zhang\\HOME\\data\\part211\\part211_baseline.acq\n",
      "PROCESSING....C:\\Users\\BIOPACMan\\Documents\\Zhang\\HOME\\data\\part211\\part211_pilot.acq\n",
      "PROCESSING....C:\\Users\\BIOPACMan\\Documents\\Zhang\\HOME\\data\\part212\\part212_baseline.acq\n",
      "PROCESSING....C:\\Users\\BIOPACMan\\Documents\\Zhang\\HOME\\data\\part212\\part212_pilot.acq\n",
      "PROCESSING....C:\\Users\\BIOPACMan\\Documents\\Zhang\\HOME\\data\\part213\\part213_baseline.acq\n",
      "PROCESSING....C:\\Users\\BIOPACMan\\Documents\\Zhang\\HOME\\data\\part213\\part213_pilot.acq\n",
      "PROCESSING....C:\\Users\\BIOPACMan\\Documents\\Zhang\\HOME\\data\\part214\\part214_baseline.acq\n",
      "PROCESSING....C:\\Users\\BIOPACMan\\Documents\\Zhang\\HOME\\data\\part214\\part214_pilot.acq\n",
      "PROCESSING....C:\\Users\\BIOPACMan\\Documents\\Zhang\\HOME\\data\\part215\\part215_baseline.acq\n",
      "PROCESSING....C:\\Users\\BIOPACMan\\Documents\\Zhang\\HOME\\data\\part215\\part215_pilot.acq\n"
     ]
    }
   ],
   "source": [
    "#Process data files into ECG,EDA,RSP signals and SAVE THEM\n",
    "\n",
    "for file in filepaths:\n",
    "    # Read in data directly from .acq file and rename dataframe columns\n",
    "    # ACQ file has pre-named colums so you need to make them easier to deal with later in the script\n",
    "    # subject numbers are 201-215\n",
    "    # raw data is barely useful, in units of voltage (RSP), microsiemens (EDA), mV (ECG), and V (TRIG)\n",
    "    print(\"PROCESSING....\" + file)\n",
    "    \n",
    "    data, sampling_rate = nk.read_acqknowledge(file)\n",
    "    data = data.rename(columns={\"RSP, X, RSPEC-R\": \"RSP\", \"DTU100 - Trigger View, AMI / HLT - A11\": \"TRIG\",\n",
    "                                \"EDA, X, PPGED-R\": \"EDA\", \"ECG, X, RSPEC-R\": \"ECG\"})\n",
    "    \n",
    "    # Process ECG, EDA, and RSP over the entire experiment\n",
    "    # takes the unidimensional psychophys data and derives relevant features for each subject\n",
    "    file_name = file.replace(\".acq\",\"\") \n",
    "    if not (os.path.exists(file_name+\"_ecg_signals.p\")):\n",
    "        ecg_signals, info1 = nk.ecg_process(data[\"ECG\"], sampling_rate=2000)\n",
    "        pickle.dump( ecg_signals, open( file_name+\"_ecg_signals.p\", \"wb\" ) )\n",
    "        \n",
    "    if not (os.path.exists(file_name+\"_eda_signals.p\")):\n",
    "        eda_signals, info2 = nk.eda_process(data[\"EDA\"], sampling_rate=2000)\n",
    "        pickle.dump( eda_signals, open( file_name+\"_eda_signals.p\", \"wb\" ) )\n",
    "        \n",
    "    if not (os.path.exists(file_name+\"_rsp_signals.p\")):\n",
    "        rsp_signals, info3 = nk.rsp_process(data[\"RSP\"], sampling_rate=2000)\n",
    "        pickle.dump( rsp_signals, open( file_name+\"_rsp_signals.p\", \"wb\" ) )\n",
    "      "
   ]
  },
  {
   "cell_type": "code",
   "execution_count": null,
   "metadata": {
    "collapsed": true
   },
   "outputs": [],
   "source": [
    "#Get picklenames\n",
    "pickle_signals = []\n",
    "for subdir, dirs, files in os.walk(home_dir):\n",
    "    for filename in files:\n",
    "        filepath = subdir + os.sep + filename\n",
    "        \n",
    "        if filepath.endswith(\".p\"):\n",
    "            pickle_signals.append(filepath)\n",
    "pickle_signals"
   ]
  },
  {
   "cell_type": "code",
   "execution_count": null,
   "metadata": {
    "collapsed": true
   },
   "outputs": [],
   "source": [
    "#Code to verify pickling worked!\n",
    "ecg_signals = []\n",
    "eda_signals = []\n",
    "rsp_signals = []\n",
    "for p in pickle_signals:\n",
    "    if \"ecg\" in p:\n",
    "        ecg = pickle.load(open(p,\"rb\"))\n",
    "        ecg_signals.append(ecg)\n",
    "    if \"eda\" in p:\n",
    "        eda = pickle.load(open(p,\"rb\"))\n",
    "        eda_signals.append(eda)\n",
    "    if \"rsp\" in p:\n",
    "        rsp = pickle.load(open(p,\"rb\"))\n",
    "        rsp_signals.append(rsp)"
   ]
  },
  {
   "cell_type": "code",
   "execution_count": null,
   "metadata": {
    "collapsed": true
   },
   "outputs": [],
   "source": [
    "filepaths"
   ]
  }
 ],
 "metadata": {
  "kernelspec": {
   "display_name": "Python 3",
   "language": "python",
   "name": "python3"
  },
  "language_info": {
   "codemirror_mode": {
    "name": "ipython",
    "version": 3
   },
   "file_extension": ".py",
   "mimetype": "text/x-python",
   "name": "python",
   "nbconvert_exporter": "python",
   "pygments_lexer": "ipython3",
   "version": "3.6.3"
  }
 },
 "nbformat": 4,
 "nbformat_minor": 2
}
