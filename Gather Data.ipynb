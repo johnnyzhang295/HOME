{
 "cells": [
  {
   "cell_type": "code",
   "execution_count": 65,
   "metadata": {},
   "outputs": [],
   "source": [
    "%matplotlib notebook\n",
    "\n",
    "import matplotlib.pyplot as plt\n",
    "from IPython.display import display\n",
    "import neurokit2 as nk\n",
    "import pandas as pd\n",
    "import numpy as np\n",
    "import seaborn as sns\n",
    "import scipy.signal\n",
    "import os\n",
    "import pickle\n",
    "\n",
    "# Set matplotlib parameters for displaying graphs\n",
    "sns.set_style('darkgrid')\n",
    "plt.rcParams['figure.figsize'] = [10, 5]  # Bigger images\n",
    "plt.rcParams['font.size']= 14\n",
    "\n",
    "pd.set_option('display.max_columns', None)"
   ]
  },
  {
   "cell_type": "code",
   "execution_count": 3,
   "metadata": {},
   "outputs": [],
   "source": [
    "cwd = os.getcwd()\n",
    "home_dir = os.path.dirname(cwd)"
   ]
  },
  {
   "cell_type": "code",
   "execution_count": 4,
   "metadata": {},
   "outputs": [
    {
     "data": {
      "text/plain": [
       "['C:\\\\Users\\\\JZ\\\\Documents\\\\Graduate School\\\\HOME NSTRI\\\\data\\\\part201\\\\part201_baseline.acq',\n",
       " 'C:\\\\Users\\\\JZ\\\\Documents\\\\Graduate School\\\\HOME NSTRI\\\\data\\\\part201\\\\part201_pilot.acq',\n",
       " 'C:\\\\Users\\\\JZ\\\\Documents\\\\Graduate School\\\\HOME NSTRI\\\\data\\\\part202\\\\part202_pilot.acq',\n",
       " 'C:\\\\Users\\\\JZ\\\\Documents\\\\Graduate School\\\\HOME NSTRI\\\\data\\\\part206\\\\part206_pilot.acq',\n",
       " 'C:\\\\Users\\\\JZ\\\\Documents\\\\Graduate School\\\\HOME NSTRI\\\\data\\\\part207\\\\part207_pilot.acq',\n",
       " 'C:\\\\Users\\\\JZ\\\\Documents\\\\Graduate School\\\\HOME NSTRI\\\\data\\\\part208\\\\part208_pilot.acq',\n",
       " 'C:\\\\Users\\\\JZ\\\\Documents\\\\Graduate School\\\\HOME NSTRI\\\\data\\\\part209\\\\part209_pilot.acq',\n",
       " 'C:\\\\Users\\\\JZ\\\\Documents\\\\Graduate School\\\\HOME NSTRI\\\\data\\\\part210\\\\part210_pilot.acq',\n",
       " 'C:\\\\Users\\\\JZ\\\\Documents\\\\Graduate School\\\\HOME NSTRI\\\\data\\\\part211\\\\part211_pilot.acq',\n",
       " 'C:\\\\Users\\\\JZ\\\\Documents\\\\Graduate School\\\\HOME NSTRI\\\\data\\\\part212\\\\part212_pilot.acq',\n",
       " 'C:\\\\Users\\\\JZ\\\\Documents\\\\Graduate School\\\\HOME NSTRI\\\\data\\\\part213\\\\part213_pilot.acq',\n",
       " 'C:\\\\Users\\\\JZ\\\\Documents\\\\Graduate School\\\\HOME NSTRI\\\\data\\\\part215\\\\part215_pilot.acq']"
      ]
     },
     "execution_count": 4,
     "metadata": {},
     "output_type": "execute_result"
    }
   ],
   "source": [
    "filepaths = []\n",
    "for subdir, dirs, files in os.walk(home_dir):\n",
    "    for filename in files:\n",
    "        filepath = subdir + os.sep + filename\n",
    "        \n",
    "        if filepath.endswith(\".acq\"):\n",
    "            filepaths.append(filepath)\n",
    "filepaths"
   ]
  },
  {
   "cell_type": "code",
   "execution_count": 28,
   "metadata": {
    "scrolled": true
   },
   "outputs": [
    {
     "ename": "OSError",
     "evalue": "[Errno 28] No space left on device",
     "output_type": "error",
     "traceback": [
      "\u001b[1;31m---------------------------------------------------------------------------\u001b[0m",
      "\u001b[1;31mOSError\u001b[0m                                   Traceback (most recent call last)",
      "\u001b[1;32m<ipython-input-28-37339570f805>\u001b[0m in \u001b[0;36m<module>\u001b[1;34m\u001b[0m\n\u001b[0;32m     16\u001b[0m \u001b[1;33m\u001b[0m\u001b[0m\n\u001b[0;32m     17\u001b[0m     \u001b[0mpickle\u001b[0m\u001b[1;33m.\u001b[0m\u001b[0mdump\u001b[0m\u001b[1;33m(\u001b[0m \u001b[0mecg_signals\u001b[0m\u001b[1;33m,\u001b[0m \u001b[0mopen\u001b[0m\u001b[1;33m(\u001b[0m \u001b[0mfile\u001b[0m\u001b[1;33m[\u001b[0m\u001b[1;33m:\u001b[0m\u001b[1;33m-\u001b[0m\u001b[1;36m10\u001b[0m\u001b[1;33m]\u001b[0m\u001b[1;33m+\u001b[0m\u001b[1;34m\"_ecg_signals.p\"\u001b[0m\u001b[1;33m,\u001b[0m \u001b[1;34m\"wb\"\u001b[0m \u001b[1;33m)\u001b[0m \u001b[1;33m)\u001b[0m\u001b[1;33m\u001b[0m\u001b[1;33m\u001b[0m\u001b[0m\n\u001b[1;32m---> 18\u001b[1;33m     \u001b[0mpickle\u001b[0m\u001b[1;33m.\u001b[0m\u001b[0mdump\u001b[0m\u001b[1;33m(\u001b[0m \u001b[0meda_signals\u001b[0m\u001b[1;33m,\u001b[0m \u001b[0mopen\u001b[0m\u001b[1;33m(\u001b[0m \u001b[0mfile\u001b[0m\u001b[1;33m[\u001b[0m\u001b[1;33m:\u001b[0m\u001b[1;33m-\u001b[0m\u001b[1;36m10\u001b[0m\u001b[1;33m]\u001b[0m\u001b[1;33m+\u001b[0m\u001b[1;34m\"_eda_signals.p\"\u001b[0m\u001b[1;33m,\u001b[0m \u001b[1;34m\"wb\"\u001b[0m \u001b[1;33m)\u001b[0m \u001b[1;33m)\u001b[0m\u001b[1;33m\u001b[0m\u001b[1;33m\u001b[0m\u001b[0m\n\u001b[0m\u001b[0;32m     19\u001b[0m     \u001b[0mpickle\u001b[0m\u001b[1;33m.\u001b[0m\u001b[0mdump\u001b[0m\u001b[1;33m(\u001b[0m \u001b[0mrsp_signals\u001b[0m\u001b[1;33m,\u001b[0m \u001b[0mopen\u001b[0m\u001b[1;33m(\u001b[0m \u001b[0mfile\u001b[0m\u001b[1;33m[\u001b[0m\u001b[1;33m:\u001b[0m\u001b[1;33m-\u001b[0m\u001b[1;36m10\u001b[0m\u001b[1;33m]\u001b[0m\u001b[1;33m+\u001b[0m\u001b[1;34m\"_rsp_signals.p\"\u001b[0m\u001b[1;33m,\u001b[0m \u001b[1;34m\"wb\"\u001b[0m \u001b[1;33m)\u001b[0m \u001b[1;33m)\u001b[0m\u001b[1;33m\u001b[0m\u001b[1;33m\u001b[0m\u001b[0m\n",
      "\u001b[1;31mOSError\u001b[0m: [Errno 28] No space left on device"
     ]
    }
   ],
   "source": [
    "#Process data files into ECG,EDA,R\n",
    "\n",
    "for file in filepaths:\n",
    "    # Read in data directly from .acq file and rename dataframe columns\n",
    "    # ACQ file has pre-named colums so you need to make them easier to deal with later in the script\n",
    "    # subject numbers are 201-215\n",
    "    # raw data is barely useful, in units of voltage (RSP), microsiemens (EDA), mV (ECG), and V (TRIG)\n",
    "\n",
    "    data, sampling_rate = nk.read_acqknowledge(file)\n",
    "    data = data.rename(columns={\"RSP, X, RSPEC-R\": \"RSP\", \"DTU100 - Trigger View, AMI / HLT - A11\": \"TRIG\",\n",
    "                                \"EDA, X, PPGED-R\": \"EDA\", \"ECG, X, RSPEC-R\": \"ECG\"})\n",
    "    \n",
    "    # Process ECG, EDA, and RSP over the entire experiment\n",
    "    # takes the unidimensional psychophys data and derives relevant features for each subject\n",
    "    ecg_signals, info1 = nk.ecg_process(data[\"ECG\"], sampling_rate=2000)\n",
    "    eda_signals, info2 = nk.eda_process(data[\"EDA\"], sampling_rate=2000)\n",
    "    rsp_signals, info3 = nk.rsp_process(data[\"RSP\"], sampling_rate=2000)\n",
    "    \n",
    "    pickle.dump( ecg_signals, open( file[:-10]+\"_ecg_signals.p\", \"wb\" ) )\n",
    "    pickle.dump( eda_signals, open( file[:-10]+\"_eda_signals.p\", \"wb\" ) )\n",
    "    pickle.dump( rsp_signals, open( file[:-10]+\"_rsp_signals.p\", \"wb\" ) )"
   ]
  },
  {
   "cell_type": "code",
   "execution_count": 56,
   "metadata": {},
   "outputs": [
    {
     "data": {
      "text/plain": [
       "['C:\\\\Users\\\\JZ\\\\Documents\\\\Graduate School\\\\HOME NSTRI\\\\data\\\\part201\\\\part201_baseline_ecg_signals.p',\n",
       " 'C:\\\\Users\\\\JZ\\\\Documents\\\\Graduate School\\\\HOME NSTRI\\\\data\\\\part201\\\\part201_baseline_eda_signals.p',\n",
       " 'C:\\\\Users\\\\JZ\\\\Documents\\\\Graduate School\\\\HOME NSTRI\\\\data\\\\part201\\\\part201_baseline_rsp_signals.p',\n",
       " 'C:\\\\Users\\\\JZ\\\\Documents\\\\Graduate School\\\\HOME NSTRI\\\\data\\\\part201\\\\part201_ecg_signals.p',\n",
       " 'C:\\\\Users\\\\JZ\\\\Documents\\\\Graduate School\\\\HOME NSTRI\\\\data\\\\part201\\\\part201_eda_signals.p',\n",
       " 'C:\\\\Users\\\\JZ\\\\Documents\\\\Graduate School\\\\HOME NSTRI\\\\data\\\\part201\\\\part201_rsp_signals.p',\n",
       " 'C:\\\\Users\\\\JZ\\\\Documents\\\\Graduate School\\\\HOME NSTRI\\\\data\\\\part202\\\\part202_ecg_signals.p',\n",
       " 'C:\\\\Users\\\\JZ\\\\Documents\\\\Graduate School\\\\HOME NSTRI\\\\data\\\\part202\\\\part202_eda_signals.p',\n",
       " 'C:\\\\Users\\\\JZ\\\\Documents\\\\Graduate School\\\\HOME NSTRI\\\\data\\\\part202\\\\part202_rsp_signals.p',\n",
       " 'C:\\\\Users\\\\JZ\\\\Documents\\\\Graduate School\\\\HOME NSTRI\\\\data\\\\part206\\\\part206_ecg_signals.p',\n",
       " 'C:\\\\Users\\\\JZ\\\\Documents\\\\Graduate School\\\\HOME NSTRI\\\\data\\\\part206\\\\part206_eda_signals.p',\n",
       " 'C:\\\\Users\\\\JZ\\\\Documents\\\\Graduate School\\\\HOME NSTRI\\\\data\\\\part206\\\\part206_rsp_signals.p',\n",
       " 'C:\\\\Users\\\\JZ\\\\Documents\\\\Graduate School\\\\HOME NSTRI\\\\data\\\\part207\\\\part207_ecg_signals.p',\n",
       " 'C:\\\\Users\\\\JZ\\\\Documents\\\\Graduate School\\\\HOME NSTRI\\\\data\\\\part207\\\\part207_eda_signals.p',\n",
       " 'C:\\\\Users\\\\JZ\\\\Documents\\\\Graduate School\\\\HOME NSTRI\\\\data\\\\part207\\\\part207_rsp_signals.p',\n",
       " 'C:\\\\Users\\\\JZ\\\\Documents\\\\Graduate School\\\\HOME NSTRI\\\\data\\\\part208\\\\part208_ecg_signals.p',\n",
       " 'C:\\\\Users\\\\JZ\\\\Documents\\\\Graduate School\\\\HOME NSTRI\\\\data\\\\part208\\\\part208_eda_signals.p',\n",
       " 'C:\\\\Users\\\\JZ\\\\Documents\\\\Graduate School\\\\HOME NSTRI\\\\data\\\\part208\\\\part208_rsp_signals.p',\n",
       " 'C:\\\\Users\\\\JZ\\\\Documents\\\\Graduate School\\\\HOME NSTRI\\\\data\\\\part209\\\\part209_ecg_signals.p',\n",
       " 'C:\\\\Users\\\\JZ\\\\Documents\\\\Graduate School\\\\HOME NSTRI\\\\data\\\\part209\\\\part209_eda_signals.p',\n",
       " 'C:\\\\Users\\\\JZ\\\\Documents\\\\Graduate School\\\\HOME NSTRI\\\\data\\\\part209\\\\part209_rsp_signals.p',\n",
       " 'C:\\\\Users\\\\JZ\\\\Documents\\\\Graduate School\\\\HOME NSTRI\\\\data\\\\part210\\\\part210_ecg_signals.p',\n",
       " 'C:\\\\Users\\\\JZ\\\\Documents\\\\Graduate School\\\\HOME NSTRI\\\\data\\\\part210\\\\part210_eda_signals.p',\n",
       " 'C:\\\\Users\\\\JZ\\\\Documents\\\\Graduate School\\\\HOME NSTRI\\\\data\\\\part210\\\\part210_rsp_signals.p',\n",
       " 'C:\\\\Users\\\\JZ\\\\Documents\\\\Graduate School\\\\HOME NSTRI\\\\data\\\\part211\\\\part211_ecg_signals.p',\n",
       " 'C:\\\\Users\\\\JZ\\\\Documents\\\\Graduate School\\\\HOME NSTRI\\\\data\\\\part211\\\\part211_eda_signals.p',\n",
       " 'C:\\\\Users\\\\JZ\\\\Documents\\\\Graduate School\\\\HOME NSTRI\\\\data\\\\part211\\\\part211_rsp_signals.p',\n",
       " 'C:\\\\Users\\\\JZ\\\\Documents\\\\Graduate School\\\\HOME NSTRI\\\\data\\\\part212\\\\part212_ecg_signals.p',\n",
       " 'C:\\\\Users\\\\JZ\\\\Documents\\\\Graduate School\\\\HOME NSTRI\\\\data\\\\part212\\\\part212_eda_signals.p',\n",
       " 'C:\\\\Users\\\\JZ\\\\Documents\\\\Graduate School\\\\HOME NSTRI\\\\data\\\\part212\\\\part212_rsp_signals.p',\n",
       " 'C:\\\\Users\\\\JZ\\\\Documents\\\\Graduate School\\\\HOME NSTRI\\\\data\\\\part213\\\\part213_ecg_signals.p',\n",
       " 'C:\\\\Users\\\\JZ\\\\Documents\\\\Graduate School\\\\HOME NSTRI\\\\data\\\\part213\\\\part213_eda_signals.p',\n",
       " 'C:\\\\Users\\\\JZ\\\\Documents\\\\Graduate School\\\\HOME NSTRI\\\\data\\\\part213\\\\part213_rsp_signals.p',\n",
       " 'C:\\\\Users\\\\JZ\\\\Documents\\\\Graduate School\\\\HOME NSTRI\\\\data\\\\part215\\\\part215_ecg_signals.p']"
      ]
     },
     "execution_count": 56,
     "metadata": {},
     "output_type": "execute_result"
    }
   ],
   "source": [
    "#Get picklenames\n",
    "pickle_signals = []\n",
    "for subdir, dirs, files in os.walk(home_dir):\n",
    "    for filename in files:\n",
    "        filepath = subdir + os.sep + filename\n",
    "        \n",
    "        if filepath.endswith(\".p\"):\n",
    "            pickle_signals.append(filepath)\n",
    "pickle_signals"
   ]
  },
  {
   "cell_type": "code",
   "execution_count": 71,
   "metadata": {},
   "outputs": [],
   "source": [
    "#Code to verify pickling worked!\n",
    "ecg_signals = []\n",
    "eda_signals = []\n",
    "rsp_signals = []\n",
    "for p in pickle_signals:\n",
    "    if \"ecg\" in p:\n",
    "        ecg = pickle.load(open(p,\"rb\"))\n",
    "        ecg_signals.append(ecg)\n",
    "    if \"eda\" in p:\n",
    "        eda = pickle.load(open(p,\"rb\"))\n",
    "        eda_signals.append(eda)\n",
    "    if \"rsp\" in p:\n",
    "        rsp = pickle.load(open(p,\"rb\"))\n",
    "        rsp_signals.append(rsp)"
   ]
  }
 ],
 "metadata": {
  "kernelspec": {
   "display_name": "Python 3",
   "language": "python",
   "name": "python3"
  },
  "language_info": {
   "codemirror_mode": {
    "name": "ipython",
    "version": 3
   },
   "file_extension": ".py",
   "mimetype": "text/x-python",
   "name": "python",
   "nbconvert_exporter": "python",
   "pygments_lexer": "ipython3",
   "version": "3.8.3"
  }
 },
 "nbformat": 4,
 "nbformat_minor": 2
}
