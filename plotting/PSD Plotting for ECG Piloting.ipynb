{
 "cells": [
  {
   "cell_type": "code",
   "execution_count": null,
   "metadata": {
    "collapsed": true
   },
   "outputs": [],
   "source": [
    "%matplotlib notebook\n",
    "\n",
    "import matplotlib.pyplot as plt\n",
    "from IPython.display import display\n",
    "import neurokit2 as nk\n",
    "import pandas as pd\n",
    "import numpy as np\n",
    "import seaborn as sns\n",
    "import os\n",
    "import pickle\n",
    "import xlsxwriter\n",
    "\n",
    "#Change this for each participant\n",
    "part_number = '202'\n",
    "\n",
    "# Set matplotlib parameters for displaying graphs\n",
    "sns.set_style('darkgrid')\n",
    "plt.rcParams['figure.figsize'] = [9, 4.5]  # Bigger images\n",
    "plt.rcParams['font.size']= 14\n",
    "pd.set_option('display.max_columns', None)\n",
    "\n",
    "save_dir = '../data/part'+part_number+'/figures/'\n",
    "\n",
    "p = '../data/part'+part_number+'/part'+part_number+'_pilot_ecg_signals.p'\n",
    "ecg = pickle.load(open(p,\"rb\"))\n",
    "eda = pickle.load(open('../data/part'+part_number+'/part'+part_number+'_pilot_eda_signals.p',\"rb\"))\n",
    "rsp = pickle.load(open('../data/part'+part_number+'/part'+part_number+'_pilot_rsp_signals.p',\"rb\"))\n",
    "baseline_fn = '../data/part'+part_number+'/part'+part_number+'_baseline_ecg_signals.p'\n",
    "baseline2_fn = '../data/part'+part_number+'/part'+part_number+'_baseline_eda_signals.p'\n",
    "baseline3_fn = '../data/part'+part_number+'/part'+part_number+'_baseline_rsp_signals.p'\n",
    "ecg_baseline = pickle.load(open(baseline_fn,\"rb\"))\n",
    "eda_baseline = pickle.load(open(baseline2_fn,\"rb\"))\n",
    "rsp_baseline = pickle.load(open(baseline3_fn,\"rb\"))\n",
    "\n",
    "data_file = '../data/part'+part_number+'/part'+part_number+'_pilot.acq'\n",
    "rate = 2000\n",
    "\n",
    "data, sampling_rate = nk.read_acqknowledge(data_file)\n",
    "data = data.rename(columns={\"RSP, X, RSPEC-R\": \"RSP\", \"DTU100 - Trigger View, AMI / HLT - A11\": \"TRIG\",\n",
    "                            \"EDA, X, PPGED-R\": \"EDA\", \"ECG, X, RSPEC-R\": \"ECG\"})\n",
    "\n",
    "timestamps=np.loadtxt('../support/trigger timestamps/trigger timestamps.csv',dtype='int',delimiter=',')\n",
    "start_times = timestamps[int(part_number[-2:]) - 1]\n",
    "feedback_times = timestamps[int(part_number[-2:]) - 1 + 15]\n",
    "\n",
    "taskloads_all = np.loadtxt('../support/taskload settings/taskload settings.csv',dtype='int',delimiter=',',encoding='UTF-8')\n",
    "taskload_settings = taskloads_all[int(part_number[-2:]) - 1]\n",
    "\n",
    "durations = [100,100,100,100,100,100,100,100,100,100,100,100]\n",
    "#durations = [633339, 472624, 462436, 479671, 443789, 460186, 451913, 467455, 465081, 407503, 453908, 453551]\n",
    "\n",
    "events = {}\n",
    "events['onset'] = start_times\n",
    "events['duration'] = durations\n",
    "events['label']=  [1,2,3,4,5,6,7,8,9,10,11,12]\n",
    "events['condition'] =  taskload_settings\n",
    "#events['trust'] = trust_settings DOES NOT WORK!\n",
    "\n",
    "events_feedback = {}\n",
    "events_feedback['onset'] = feedback_times\n",
    "events_feedback['duration'] = durations\n",
    "events_feedback['label']=  [1,2,3,4,5,6,7,8,9,10,11,12]\n",
    "events_feedback['condition'] =  taskload_settings\n",
    "\n",
    "ecg_pilot_interval = nk.epochs_create(ecg, events, sampling_rate=rate, epochs_start=0, epochs_end=50)\n",
    "eda_pilot_interval = nk.epochs_create(eda, events, sampling_rate=rate, epochs_start=0, epochs_end=50)\n",
    "rsp_pilot_interval = nk.epochs_create(rsp, events, sampling_rate=rate, epochs_start=0, epochs_end=50)\n",
    "\n",
    "ecg_trust_interval = nk.epochs_create(ecg,events,sampling_rate=rate,epochs_start=50,epochs_end=70)\n",
    "eda_trust_interval = nk.epochs_create(eda,events,sampling_rate=rate,epochs_start=50,epochs_end=70)\n",
    "rsp_trust_interval = nk.epochs_create(rsp,events,sampling_rate=rate,epochs_start=50,epochs_end=70)\n",
    "\n",
    "ecg_trust_event = nk.epochs_create(ecg,events_feedback,sampling_rate=rate,epochs_start=-5,epochs_end=20)\n",
    "eda_trust_event = nk.epochs_create(eda,events_feedback,sampling_rate=rate,epochs_start=-5,epochs_end=20)\n",
    "rsp_trust_event = nk.epochs_create(rsp,events_feedback,sampling_rate=rate,epochs_start=-5,epochs_end=20)\n",
    "\n",
    "pi_high_tl = {}\n",
    "hc=1\n",
    "pi_med_tl = {}\n",
    "mc=1\n",
    "pi_low_tl = {}\n",
    "lc=1\n",
    "for i in range(1,13):\n",
    "    if (ecg_pilot_interval[i]['Condition'].iloc[0] == 4.0):\n",
    "        pi_high_tl[hc] = ecg_pilot_interval[i]\n",
    "        hc+=1\n",
    "    if (ecg_pilot_interval[i]['Condition'].iloc[0] == 3.0):\n",
    "        pi_med_tl[mc] = ecg_pilot_interval[i]\n",
    "        mc+=1\n",
    "    if (ecg_pilot_interval[i]['Condition'].iloc[0] == 2.0):\n",
    "        pi_low_tl[lc] = ecg_pilot_interval[i]\n",
    "        lc+=1\n",
    "\n",
    "for i in range(1,13):\n",
    "    if (eda_pilot_interval[i]['Condition'].iloc[0] == 4.0):\n",
    "        pi_high_tl[hc] = eda_pilot_interval[i]\n",
    "        hc+=1\n",
    "    if (eda_pilot_interval[i]['Condition'].iloc[0] == 3.0):\n",
    "        pi_med_tl[mc] = eda_pilot_interval[i]\n",
    "        mc+=1\n",
    "    if (eda_pilot_interval[i]['Condition'].iloc[0] == 2.0):\n",
    "        pi_low_tl[lc] = eda_pilot_interval[i]\n",
    "        lc+=1\n",
    "            \n",
    "for i in range(1,13):\n",
    "    if (rsp_pilot_interval[i]['Condition'].iloc[0] == 4.0):\n",
    "        pi_high_tl[hc] = rsp_pilot_interval[i]\n",
    "        hc+=1\n",
    "    if (rsp_pilot_interval[i]['Condition'].iloc[0] == 3.0):\n",
    "        pi_med_tl[mc] = rsp_pilot_interval[i]\n",
    "        mc+=1\n",
    "    if (rsp_pilot_interval[i]['Condition'].iloc[0] == 2.0):\n",
    "        pi_low_tl[lc] = rsp_pilot_interval[i]\n",
    "        lc+=1\n",
    "        \n",
    "x_axis_pilot = np.linspace(0, ecg_pilot_interval[1].shape[0]/ sampling_rate, ecg_pilot_interval[1].shape[0])"
   ]
  },
  {
   "cell_type": "code",
   "execution_count": null,
   "metadata": {
    "scrolled": false
   },
   "outputs": [],
   "source": [
    "index = 1\n",
    "condition = 'High'\n",
    "hrv_high = []\n",
    "\n",
    "peaks_all = pi_high_tl[index]['ECG_R_Peaks'][:]\n",
    "hrv_high.append(nk.hrv_frequency(peaks_all, sampling_rate=sampling_rate, show=True))\n",
    "plt.savefig('../data/part'+str(part_number)+'/figures/'+condition + ' TL instance ' + str(index) + ' PSD All 50s.jpg')\n",
    "\n",
    "peaks_f40 = pi_high_tl[index]['ECG_R_Peaks'][:40]\n",
    "hrv_high.append(nk.hrv_frequency(peaks_f40, sampling_rate=sampling_rate, show=True))\n",
    "\n",
    "plt.savefig('../data/part'+str(part_number)+'/figures/'+condition + ' TL instance ' + str(index) + ' PSD First 40s.jpg')\n",
    "\n",
    "peaks_l40 = pi_high_tl[index]['ECG_R_Peaks'][10:]\n",
    "hrv_high.append(nk.hrv_frequency(peaks_l40, sampling_rate=sampling_rate, show=True))\n",
    "\n",
    "plt.savefig('../data/part'+str(part_number)+'/figures/'+condition + ' TL instance ' + str(index) + ' PSD Last 40s.jpg')\n",
    "\n",
    "r_peaks_inbetween = pd.concat([pi_high_tl[index]['ECG_R_Peaks'][:20], pi_high_tl[index]['ECG_R_Peaks'][30:]])\n",
    "peaks_inbetween = r_peaks_inbetween\n",
    "hrv_high.append(nk.hrv_frequency(peaks_inbetween, sampling_rate=sampling_rate, show=True))\n",
    "\n",
    "plt.savefig('../data/part'+str(part_number)+'/figures/'+condition + ' TL instance ' + str(index) + ' PSD 0-20s + 30-50s.jpg')"
   ]
  },
  {
   "cell_type": "code",
   "execution_count": null,
   "metadata": {},
   "outputs": [],
   "source": [
    "index = 1\n",
    "condition = 'Medium'\n",
    "hrv_med = []\n",
    "\n",
    "peaks_all = pi_med_tl[index]['ECG_R_Peaks'][:]\n",
    "hrv_med.append(nk.hrv_frequency(peaks_all, sampling_rate=sampling_rate, show=True))\n",
    "plt.savefig('../data/part'+str(part_number)+'/figures/'+condition + ' TL instance ' + str(index) + ' PSD All 50s.jpg')\n",
    "\n",
    "peaks_f40 = pi_med_tl[index]['ECG_R_Peaks'][:40]\n",
    "hrv_med.append(nk.hrv_frequency(peaks_f40, sampling_rate=sampling_rate, show=True))\n",
    "\n",
    "plt.savefig('../data/part'+str(part_number)+'/figures/'+condition + ' TL instance ' + str(index) + ' PSD First 40s.jpg')\n",
    "\n",
    "peaks_l40 = pi_med_tl[index]['ECG_R_Peaks'][10:]\n",
    "hrv_med.append(nk.hrv_frequency(peaks_l40, sampling_rate=sampling_rate, show=True))\n",
    "\n",
    "plt.savefig('../data/part'+str(part_number)+'/figures/'+condition + ' TL instance ' + str(index) + ' PSD Last 40s.jpg')\n",
    "\n",
    "r_peaks_inbetween = pd.concat([pi_med_tl[index]['ECG_R_Peaks'][:20], pi_med_tl[index]['ECG_R_Peaks'][30:]])\n",
    "peaks_inbetween = r_peaks_inbetween\n",
    "hrv_med.append(nk.hrv_frequency(peaks_inbetween, sampling_rate=sampling_rate, show=True))\n",
    "\n",
    "plt.savefig('../data/part'+str(part_number)+'/figures/'+condition + ' TL instance ' + str(index) + ' PSD 0-20s + 30-50s.jpg')"
   ]
  },
  {
   "cell_type": "code",
   "execution_count": null,
   "metadata": {},
   "outputs": [],
   "source": [
    "index = 1\n",
    "condition = 'Low'\n",
    "hrv_low = []\n",
    "peaks_all = pi_low_tl[index]['ECG_R_Peaks'][:]\n",
    "hrv_low.append(nk.hrv_frequency(peaks_all, sampling_rate=sampling_rate, show=True))\n",
    "\n",
    "plt.savefig('../data/part'+str(part_number)+'/figures/'+condition + ' TL instance ' + str(index) + ' PSD All 50s.jpg')\n",
    "\n",
    "peaks_f40 = pi_low_tl[index]['ECG_R_Peaks'][:40]\n",
    "hrv_low.append(nk.hrv_frequency(peaks_f40, sampling_rate=sampling_rate, show=True))\n",
    "\n",
    "plt.savefig('../data/part'+str(part_number)+'/figures/'+condition + ' TL instance ' + str(index) + ' PSD First 40s.jpg')\n",
    "\n",
    "peaks_l40 = pi_low_tl[index]['ECG_R_Peaks'][10:]\n",
    "hrv_low.append(nk.hrv_frequency(peaks_l40, sampling_rate=sampling_rate, show=True))\n",
    "\n",
    "plt.savefig('../data/part'+str(part_number)+'/figures/'+condition + ' TL instance ' + str(index) + ' PSD Last 40s.jpg')\n",
    "\n",
    "r_peaks_inbetween = pd.concat([pi_low_tl[index]['ECG_R_Peaks'][:20], pi_low_tl[index]['ECG_R_Peaks'][30:]])\n",
    "peaks_inbetween = r_peaks_inbetween\n",
    "hrv_low.append(nk.hrv_frequency(peaks_inbetween, sampling_rate=sampling_rate, show=True))\n",
    "\n",
    "plt.savefig('../data/part'+str(part_number)+'/figures/'+condition + ' TL instance ' + str(index) + ' PSD 0-20s + 30-50s.jpg')"
   ]
  },
  {
   "cell_type": "code",
   "execution_count": null,
   "metadata": {
    "collapsed": true
   },
   "outputs": [],
   "source": [
    "plt.close('all')"
   ]
  },
  {
   "cell_type": "code",
   "execution_count": null,
   "metadata": {},
   "outputs": [],
   "source": [
    "hrv_low"
   ]
  },
  {
   "cell_type": "code",
   "execution_count": null,
   "metadata": {
    "collapsed": true
   },
   "outputs": [],
   "source": [
    "filepath = '../data/part'+part_number+'/HRV_HFn.csv'\n",
    "f=open(filepath,'ab')\n",
    "for iind in range(4):\n",
    "    np.savetxt(f,hrv_low[iind])\n",
    "for iind in range(4):\n",
    "    np.savetxt(f,hrv_med[iind])\n",
    "for iind in range(4):\n",
    "    np.savetxt(f,hrv_high[iind])\n",
    "f.close()"
   ]
  },
  {
   "cell_type": "code",
   "execution_count": null,
   "metadata": {},
   "outputs": [],
   "source": [
    "hrv_high"
   ]
  },
  {
   "cell_type": "code",
   "execution_count": null,
   "metadata": {},
   "outputs": [],
   "source": [
    "hrv_med"
   ]
  },
  {
   "cell_type": "code",
   "execution_count": null,
   "metadata": {
    "scrolled": true
   },
   "outputs": [],
   "source": [
    "med_hrv_low = 0\n",
    "med_hrv_high = 0\n",
    "med_hrv_med = 0\n",
    "for i in range(0,4):\n",
    "    med_hrv_low+=hrv_low[i]['HRV_HFn']\n",
    "    med_hrv_high+=hrv_high[i]['HRV_HFn']\n",
    "    med_hrv_med += hrv_med[i]['HRV_HFn']\n",
    "med_hrv_low = med_hrv_low/4\n",
    "med_hrv_high = med_hrv_high/4\n",
    "med_hrv_med = med_hrv_med/4\n",
    "print(med_hrv_low)\n",
    "print(med_hrv_med)\n",
    "print(med_hrv_high)\n"
   ]
  },
  {
   "cell_type": "code",
   "execution_count": null,
   "metadata": {},
   "outputs": [],
   "source": [
    "combine = pd.concat([pi_high_tl[1]['ECG_R_Peaks'][:],\n",
    "                     pi_high_tl[2]['ECG_R_Peaks'][:],\n",
    "                     pi_high_tl[3]['ECG_R_Peaks'][:],\n",
    "                     pi_high_tl[4]['ECG_R_Peaks'][:]])\n",
    "nk.hrv_frequency(combine, sampling_rate=sampling_rate, show=True)\n",
    "#plt.title('High TL PSD')"
   ]
  },
  {
   "cell_type": "code",
   "execution_count": null,
   "metadata": {},
   "outputs": [],
   "source": [
    "combine = pd.concat([pi_low_tl[1]['ECG_R_Peaks'][:],\n",
    "                     pi_low_tl[2]['ECG_R_Peaks'][:],\n",
    "                     pi_low_tl[3]['ECG_R_Peaks'][:],\n",
    "                     pi_low_tl[4]['ECG_R_Peaks'][:]])\n",
    "nk.hrv_frequency(combine, sampling_rate=sampling_rate, show=True)\n",
    "#plt.title('Low TL PSD')"
   ]
  },
  {
   "cell_type": "code",
   "execution_count": null,
   "metadata": {},
   "outputs": [],
   "source": [
    "combine = pd.concat([pi_med_tl[1]['ECG_R_Peaks'][:],\n",
    "                     pi_med_tl[2]['ECG_R_Peaks'][:],\n",
    "                     pi_med_tl[3]['ECG_R_Peaks'][:],\n",
    "                     pi_med_tl[4]['ECG_R_Peaks'][:]])\n",
    "nk.hrv_frequency(combine, sampling_rate=sampling_rate, show=True)"
   ]
  },
  {
   "cell_type": "code",
   "execution_count": null,
   "metadata": {
    "collapsed": true
   },
   "outputs": [],
   "source": [
    "plt.close('all')"
   ]
  },
  {
   "cell_type": "code",
   "execution_count": null,
   "metadata": {
    "collapsed": true
   },
   "outputs": [],
   "source": []
  }
 ],
 "metadata": {
  "kernelspec": {
   "display_name": "Python 3",
   "language": "python",
   "name": "python3"
  },
  "language_info": {
   "codemirror_mode": {
    "name": "ipython",
    "version": 3
   },
   "file_extension": ".py",
   "mimetype": "text/x-python",
   "name": "python",
   "nbconvert_exporter": "python",
   "pygments_lexer": "ipython3",
   "version": "3.6.3"
  }
 },
 "nbformat": 4,
 "nbformat_minor": 2
}
