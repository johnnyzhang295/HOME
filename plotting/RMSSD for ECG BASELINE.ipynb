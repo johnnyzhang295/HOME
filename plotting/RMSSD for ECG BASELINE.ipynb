{
 "cells": [
  {
   "cell_type": "code",
   "execution_count": 1,
   "metadata": {
    "collapsed": true
   },
   "outputs": [],
   "source": [
    "%matplotlib notebook\n",
    "\n",
    "import matplotlib.pyplot as plt\n",
    "from IPython.display import display\n",
    "import neurokit2 as nk\n",
    "import pandas as pd\n",
    "import numpy as np\n",
    "import seaborn as sns\n",
    "import os\n",
    "import pickle\n",
    "import xlsxwriter\n",
    "\n",
    "for zz in range(1,16):\n",
    "    if zz < 10:\n",
    "        part_number = '20'+str(zz)\n",
    "    else:\n",
    "        part_number = '2'+str(zz)\n",
    "\n",
    "\n",
    "    # Set matplotlib parameters for displaying graphs\n",
    "    sns.set_style('darkgrid')\n",
    "    plt.rcParams['figure.figsize'] = [9, 4.5]  # Bigger images\n",
    "    plt.rcParams['font.size']= 14\n",
    "    pd.set_option('display.max_columns', None)\n",
    "\n",
    "    save_dir = '../data/part'+part_number+'/figures/'\n",
    "\n",
    "    p = '../data/part'+part_number+'/part'+part_number+'_baseline_ecg_signals.p'\n",
    "    ecg = pickle.load(open(p,\"rb\"))\n",
    "    eda = pickle.load(open('../data/part'+part_number+'/part'+part_number+'_baseline_eda_signals.p',\"rb\"))\n",
    "    rsp = pickle.load(open('../data/part'+part_number+'/part'+part_number+'_baseline_rsp_signals.p',\"rb\"))\n",
    "    data_file = '../data/part'+part_number+'/part'+part_number+'_baseline.acq'\n",
    "    \n",
    "    rate = 2000\n",
    "\n",
    "    data, sampling_rate = nk.read_acqknowledge(data_file)\n",
    "    data = data.rename(columns={\"RSP, X, RSPEC-R\": \"RSP\", \"DTU100 - Trigger View, AMI / HLT - A11\": \"TRIG\",\n",
    "                                \"EDA, X, PPGED-R\": \"EDA\", \"ECG, X, RSPEC-R\": \"ECG\"})\n",
    "\n",
    "    to_save = nk.ecg_intervalrelated(ecg,sampling_rate = rate);\n",
    "\n",
    "    filepath = '../data/part'+part_number+'/Baseline Time Based HRV Analyses By Trial.csv'\n",
    "    f=open(filepath,'ab')\n",
    "    np.savetxt(f,to_save)\n",
    "    f.close()\n"
   ]
  },
  {
   "cell_type": "code",
   "execution_count": null,
   "metadata": {
    "collapsed": true
   },
   "outputs": [],
   "source": []
  }
 ],
 "metadata": {
  "kernelspec": {
   "display_name": "Python 3",
   "language": "python",
   "name": "python3"
  },
  "language_info": {
   "codemirror_mode": {
    "name": "ipython",
    "version": 3
   },
   "file_extension": ".py",
   "mimetype": "text/x-python",
   "name": "python",
   "nbconvert_exporter": "python",
   "pygments_lexer": "ipython3",
   "version": "3.6.3"
  }
 },
 "nbformat": 4,
 "nbformat_minor": 2
}
