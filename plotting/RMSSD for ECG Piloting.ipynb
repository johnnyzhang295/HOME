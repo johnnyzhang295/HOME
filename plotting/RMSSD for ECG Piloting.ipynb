{
 "cells": [
  {
   "cell_type": "code",
   "execution_count": 1,
   "metadata": {},
   "outputs": [
    {
     "ename": "SyntaxError",
     "evalue": "invalid syntax (<ipython-input-1-8e47a6c13fac>, line 77)",
     "output_type": "error",
     "traceback": [
      "\u001b[1;36m  File \u001b[1;32m\"<ipython-input-1-8e47a6c13fac>\"\u001b[1;36m, line \u001b[1;32m77\u001b[0m\n\u001b[1;33m    hrvs.append(nk.ecg_intervalrelated(ecg_pilot_interval[index], sampling_rate=rate))\u001b[0m\n\u001b[1;37m       ^\u001b[0m\n\u001b[1;31mSyntaxError\u001b[0m\u001b[1;31m:\u001b[0m invalid syntax\n"
     ]
    }
   ],
   "source": [
    "%matplotlib notebook\n",
    "\n",
    "import matplotlib.pyplot as plt\n",
    "from IPython.display import display\n",
    "import neurokit2 as nk\n",
    "import pandas as pd\n",
    "import numpy as np\n",
    "import seaborn as sns\n",
    "import os\n",
    "import pickle\n",
    "import xlsxwriter\n",
    "\n",
    "for zz in range(1,16):\n",
    "\n",
    "    if zz < 10:\n",
    "        part_number = '20'+str(zz)\n",
    "    else:\n",
    "        part_number = '2'+str(zz)\n",
    "\n",
    "\n",
    "    # Set matplotlib parameters for displaying graphs\n",
    "    sns.set_style('darkgrid')\n",
    "    plt.rcParams['figure.figsize'] = [9, 4.5]  # Bigger images\n",
    "    plt.rcParams['font.size']= 14\n",
    "    pd.set_option('display.max_columns', None)\n",
    "\n",
    "    save_dir = '../data/part'+part_number+'/figures/'\n",
    "\n",
    "    p = '../data/part'+part_number+'/part'+part_number+'_pilot_ecg_signals.p'\n",
    "    ecg = pickle.load(open(p,\"rb\"))\n",
    "    eda = pickle.load(open('../data/part'+part_number+'/part'+part_number+'_pilot_eda_signals.p',\"rb\"))\n",
    "    rsp = pickle.load(open('../data/part'+part_number+'/part'+part_number+'_pilot_rsp_signals.p',\"rb\"))\n",
    "    data_file = '../data/part'+part_number+'/part'+part_number+'_pilot.acq'\n",
    " \n",
    "    \n",
    "    rate = 2000\n",
    "\n",
    "    data, sampling_rate = nk.read_acqknowledge(data_file)\n",
    "    data = data.rename(columns={\"RSP, X, RSPEC-R\": \"RSP\", \"DTU100 - Trigger View, AMI / HLT - A11\": \"TRIG\",\n",
    "                                \"EDA, X, PPGED-R\": \"EDA\", \"ECG, X, RSPEC-R\": \"ECG\"})\n",
    "\n",
    "    timestamps=np.loadtxt('../support/trigger timestamps/trigger timestamps.csv',dtype='int',delimiter=',')\n",
    "    start_times = timestamps[int(part_number[-2:]) - 1]\n",
    "    feedback_times = timestamps[int(part_number[-2:]) - 1 + 15]\n",
    "\n",
    "    taskloads_all = np.loadtxt('../support/taskload settings/taskload settings.csv',dtype='int',delimiter=',',encoding='UTF-8')\n",
    "    taskload_settings = taskloads_all[int(part_number[-2:]) - 1]\n",
    "\n",
    "    durations = [100,100,100,100,100,100,100,100,100,100,100,100]\n",
    "    #durations = [633339, 472624, 462436, 479671, 443789, 460186, 451913, 467455, 465081, 407503, 453908, 453551]\n",
    "\n",
    "    events = {}\n",
    "    events['onset'] = start_times\n",
    "    events['duration'] = durations\n",
    "    events['label']=  [1,2,3,4,5,6,7,8,9,10,11,12]\n",
    "    events['condition'] =  taskload_settings\n",
    "    #events['trust'] = trust_settings DOES NOT WORK!\n",
    "\n",
    "    events_feedback = {}\n",
    "    events_feedback['onset'] = feedback_times\n",
    "    events_feedback['duration'] = durations\n",
    "    events_feedback['label']=  [1,2,3,4,5,6,7,8,9,10,11,12]\n",
    "    events_feedback['condition'] =  taskload_settings\n",
    "\n",
    "    ecg_pilot_interval = nk.epochs_create(ecg, events, sampling_rate=rate, epochs_start=0, epochs_end=50)\n",
    "    eda_pilot_interval = nk.epochs_create(eda, events, sampling_rate=rate, epochs_start=0, epochs_end=50)\n",
    "    rsp_pilot_interval = nk.epochs_create(rsp, events, sampling_rate=rate, epochs_start=0, epochs_end=50)\n",
    "\n",
    "\n",
    "    x_axis_pilot = np.linspace(0, ecg_pilot_interval[1].shape[0]/ sampling_rate, ecg_pilot_interval[1].shape[0])\n",
    "\n",
    "    hrvs = []\n",
    "    \n",
    "    #ecg_pilot_interval starts at index 1\n",
    "    for index in range(1,13):\n",
    "        display(nk.ecg_intervalrelated(ecg_pilot_interval[index],sampling_rate=rate)\n",
    "        hrvs.append(nk.ecg_intervalrelated(ecg_pilot_interval[index], sampling_rate=rate))\n",
    "\n",
    "\n",
    "    filepath = '../data/part'+part_number+'/Time Based HRV Analyses By Trial.csv'\n",
    "    f=open(filepath,'ab')\n",
    "    \n",
    "    #hrvs starts at index 0\n",
    "    for iind in range(12):\n",
    "        np.savetxt(f,hrvs[iind])\n",
    "    f.close()\n"
   ]
  },
  {
   "cell_type": "code",
   "execution_count": null,
   "metadata": {
    "collapsed": true
   },
   "outputs": [],
   "source": []
  },
  {
   "cell_type": "code",
   "execution_count": 1,
   "metadata": {},
   "outputs": [
    {
     "name": "stdout",
     "output_type": "stream",
     "text": [
      "7\n",
      "10\n",
      "14\n"
     ]
    }
   ],
   "source": []
  },
  {
   "cell_type": "code",
   "execution_count": null,
   "metadata": {
    "collapsed": true
   },
   "outputs": [],
   "source": [
    "\n",
    "for zz in range(1,16):\n",
    "    if zz == 14:\n",
    "        continue\n",
    "    if zz == 7:\n",
    "        continue\n",
    "    if zz == 10:\n",
    "        continue"
   ]
  }
 ],
 "metadata": {
  "kernelspec": {
   "display_name": "Python 3",
   "language": "python",
   "name": "python3"
  },
  "language_info": {
   "codemirror_mode": {
    "name": "ipython",
    "version": 3
   },
   "file_extension": ".py",
   "mimetype": "text/x-python",
   "name": "python",
   "nbconvert_exporter": "python",
   "pygments_lexer": "ipython3",
   "version": "3.6.3"
  }
 },
 "nbformat": 4,
 "nbformat_minor": 2
}
