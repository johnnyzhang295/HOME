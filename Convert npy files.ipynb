{
 "cells": [
  {
   "cell_type": "code",
   "execution_count": 1,
   "metadata": {},
   "outputs": [],
   "source": [
    "import numpy as np\n",
    "\n",
    "\n"
   ]
  },
  {
   "cell_type": "code",
   "execution_count": 12,
   "metadata": {},
   "outputs": [
    {
     "name": "stdout",
     "output_type": "stream",
     "text": [
      "[721417.2103031 721417.2462171 721417.2781661 ... 724845.2611391\n",
      " 724845.4009051 724845.4293121]\n"
     ]
    }
   ],
   "source": [
    "ids = '212';\n",
    "data = np.load('C:/Users/BIOPACMan/Documents/Zhang/HOME/data/part'+ids+'/blinks_timestamps.npy')\n",
    "print(data)\n",
    "np.savetxt('C:/Users/BIOPACMan/Documents/Zhang/HOME/data/part'+ids+'/blinks_timestamps.csv',data)"
   ]
  },
  {
   "cell_type": "code",
   "execution_count": null,
   "metadata": {
    "collapsed": true
   },
   "outputs": [],
   "source": []
  }
 ],
 "metadata": {
  "kernelspec": {
   "display_name": "Python 3",
   "language": "python",
   "name": "python3"
  },
  "language_info": {
   "codemirror_mode": {
    "name": "ipython",
    "version": 3
   },
   "file_extension": ".py",
   "mimetype": "text/x-python",
   "name": "python",
   "nbconvert_exporter": "python",
   "pygments_lexer": "ipython3",
   "version": "3.6.3"
  }
 },
 "nbformat": 4,
 "nbformat_minor": 2
}
