{
 "cells": [
  {
   "cell_type": "code",
   "execution_count": 7,
   "metadata": {},
   "outputs": [
    {
     "name": "stdout",
     "output_type": "stream",
     "text": [
      "[434183.4571427 434183.4812487 434183.5211087 ... 437826.7708367\n",
      " 437826.8749197 437826.9148657]\n"
     ]
    }
   ],
   "source": [
    "import numpy as np\n",
    "\n",
    "data = np.load('C:/Users/BIOPACMan/Documents/Zhang/HOME/data/part201/blinks_timestamps.npy')\n",
    "print(data)\n",
    "np.savetxt('C:/Users/BIOPACMan/Documents/Zhang/HOME/data/part201/blinks_timestamps.csv',data)"
   ]
  }
 ],
 "metadata": {
  "kernelspec": {
   "display_name": "Python 3",
   "language": "python",
   "name": "python3"
  },
  "language_info": {
   "codemirror_mode": {
    "name": "ipython",
    "version": 3
   },
   "file_extension": ".py",
   "mimetype": "text/x-python",
   "name": "python",
   "nbconvert_exporter": "python",
   "pygments_lexer": "ipython3",
   "version": "3.6.3"
  }
 },
 "nbformat": 4,
 "nbformat_minor": 2
}
